{
 "cells": [
  {
   "cell_type": "code",
   "execution_count": null,
   "id": "6c2e8ecc-54c3-4066-a828-057843af534d",
   "metadata": {},
   "outputs": [],
   "source": [
    "#To be executed once data is generated using the createDataset.cpp file\n",
    "\n",
    "\"\"\"\n",
    "This script reads execution time data from a CSV file and plots a time complexity graph.\n",
    "Functions:\n",
    "    - Reads data from 'dataSheet.csv' using pandas.\n",
    "    - Plots the data using matplotlib with input size on the x-axis and execution time on the y-axis.\n",
    "    - Sets the x-axis to a logarithmic scale.\n",
    "    - Adds a title, labels, and grid to the plot.\n",
    "    - Displays the plot.\n",
    "    - pandas as pd\n",
    "    - matplotlib.pyplot as mpl\n",
    "\"\"\"\n",
    "# Import necessary libraries\n",
    "import pandas as pd\n",
    "import matplotlib.pyplot as mpl\n",
    "\n",
    "df = pd.read_csv('dataSheet.csv')\n",
    "mpl.plot(df['Input_Size'], df['Exec_Time'], marker='.')\n",
    "mpl.title('Time Complexity Analysis of the given Algorithm')\n",
    "mpl.xlabel('Input Size')\n",
    "mpl.ylabel('Execution Time')\n",
    "mpl.xscale('log')\n",
    "\n",
    "mpl.grid(True)\n",
    "mpl.show()"
   ]
  }
 ],
 "metadata": {
  "kernelspec": {
   "display_name": "base",
   "language": "python",
   "name": "python3"
  },
  "language_info": {
   "codemirror_mode": {
    "name": "ipython",
    "version": 3
   },
   "file_extension": ".py",
   "mimetype": "text/x-python",
   "name": "python",
   "nbconvert_exporter": "python",
   "pygments_lexer": "ipython3",
   "version": "3.12.7"
  }
 },
 "nbformat": 4,
 "nbformat_minor": 5
}
